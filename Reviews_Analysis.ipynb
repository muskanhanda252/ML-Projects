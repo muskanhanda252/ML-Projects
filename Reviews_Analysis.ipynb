{
  "nbformat": 4,
  "nbformat_minor": 0,
  "metadata": {
    "colab": {
      "name": "Reviews Analysis.ipynb",
      "provenance": []
    },
    "kernelspec": {
      "name": "python3",
      "display_name": "Python 3"
    },
    "language_info": {
      "name": "python"
    }
  },
  "cells": [
    {
      "cell_type": "code",
      "execution_count": 37,
      "metadata": {
        "id": "EmkKIJhRzEs9"
      },
      "outputs": [],
      "source": [
        "import numpy as np\n",
        "import pandas as pd\n",
        "import json"
      ]
    },
    {
      "cell_type": "code",
      "source": [
        "data=pd.read_json(\"/content/Books_small.json\",lines=True)\n",
        "data.head()"
      ],
      "metadata": {
        "colab": {
          "base_uri": "https://localhost:8080/",
          "height": 441
        },
        "id": "DzBzwg6nzJgw",
        "outputId": "71fea37c-955c-4094-8071-993060c271ae"
      },
      "execution_count": 38,
      "outputs": [
        {
          "output_type": "execute_result",
          "data": {
            "text/plain": [
              "       reviewerID        asin             reviewerName helpful  \\\n",
              "0   A1E5ZR1Z4OQJG  1495329321  Pure Jonel \"Pure Jonel\"  [0, 0]   \n",
              "1  A30PZPI6FPH0A7  0399157565               Jackmollie  [0, 0]   \n",
              "2  A1GQ2UI5BKCCRD  0984528105              Gail Hodges  [0, 0]   \n",
              "3  A2DF4LQQI6KSQ2  0804139024                     Olga  [0, 0]   \n",
              "4   A1UAMAWY966P2  0765317583        Nadyne M Ichimura  [0, 0]   \n",
              "\n",
              "                                          reviewText  overall  \\\n",
              "0  Da Silva takes the divine by storm with this u...        4   \n",
              "1  For me personally it's the most disappointing ...        2   \n",
              "2  Very simple book, but leaves you feeling good....        4   \n",
              "3  I read a library copy of this exceptionally we...        5   \n",
              "4  With the government knowing this could happen ...        5   \n",
              "\n",
              "                        summary  unixReviewTime   reviewTime  \n",
              "0        An amazing first novel      1396137600  03 30, 2014  \n",
              "1                  disappointed      1400112000  05 15, 2014  \n",
              "2                     Good book      1401235200  05 28, 2014  \n",
              "3  Science Fiction at its best!      1396483200   04 3, 2014  \n",
              "4               Excellent story      1397001600   04 9, 2014  "
            ],
            "text/html": [
              "\n",
              "  <div id=\"df-521b8ed7-b9a4-40b1-b680-362b90aa699c\">\n",
              "    <div class=\"colab-df-container\">\n",
              "      <div>\n",
              "<style scoped>\n",
              "    .dataframe tbody tr th:only-of-type {\n",
              "        vertical-align: middle;\n",
              "    }\n",
              "\n",
              "    .dataframe tbody tr th {\n",
              "        vertical-align: top;\n",
              "    }\n",
              "\n",
              "    .dataframe thead th {\n",
              "        text-align: right;\n",
              "    }\n",
              "</style>\n",
              "<table border=\"1\" class=\"dataframe\">\n",
              "  <thead>\n",
              "    <tr style=\"text-align: right;\">\n",
              "      <th></th>\n",
              "      <th>reviewerID</th>\n",
              "      <th>asin</th>\n",
              "      <th>reviewerName</th>\n",
              "      <th>helpful</th>\n",
              "      <th>reviewText</th>\n",
              "      <th>overall</th>\n",
              "      <th>summary</th>\n",
              "      <th>unixReviewTime</th>\n",
              "      <th>reviewTime</th>\n",
              "    </tr>\n",
              "  </thead>\n",
              "  <tbody>\n",
              "    <tr>\n",
              "      <th>0</th>\n",
              "      <td>A1E5ZR1Z4OQJG</td>\n",
              "      <td>1495329321</td>\n",
              "      <td>Pure Jonel \"Pure Jonel\"</td>\n",
              "      <td>[0, 0]</td>\n",
              "      <td>Da Silva takes the divine by storm with this u...</td>\n",
              "      <td>4</td>\n",
              "      <td>An amazing first novel</td>\n",
              "      <td>1396137600</td>\n",
              "      <td>03 30, 2014</td>\n",
              "    </tr>\n",
              "    <tr>\n",
              "      <th>1</th>\n",
              "      <td>A30PZPI6FPH0A7</td>\n",
              "      <td>0399157565</td>\n",
              "      <td>Jackmollie</td>\n",
              "      <td>[0, 0]</td>\n",
              "      <td>For me personally it's the most disappointing ...</td>\n",
              "      <td>2</td>\n",
              "      <td>disappointed</td>\n",
              "      <td>1400112000</td>\n",
              "      <td>05 15, 2014</td>\n",
              "    </tr>\n",
              "    <tr>\n",
              "      <th>2</th>\n",
              "      <td>A1GQ2UI5BKCCRD</td>\n",
              "      <td>0984528105</td>\n",
              "      <td>Gail Hodges</td>\n",
              "      <td>[0, 0]</td>\n",
              "      <td>Very simple book, but leaves you feeling good....</td>\n",
              "      <td>4</td>\n",
              "      <td>Good book</td>\n",
              "      <td>1401235200</td>\n",
              "      <td>05 28, 2014</td>\n",
              "    </tr>\n",
              "    <tr>\n",
              "      <th>3</th>\n",
              "      <td>A2DF4LQQI6KSQ2</td>\n",
              "      <td>0804139024</td>\n",
              "      <td>Olga</td>\n",
              "      <td>[0, 0]</td>\n",
              "      <td>I read a library copy of this exceptionally we...</td>\n",
              "      <td>5</td>\n",
              "      <td>Science Fiction at its best!</td>\n",
              "      <td>1396483200</td>\n",
              "      <td>04 3, 2014</td>\n",
              "    </tr>\n",
              "    <tr>\n",
              "      <th>4</th>\n",
              "      <td>A1UAMAWY966P2</td>\n",
              "      <td>0765317583</td>\n",
              "      <td>Nadyne M Ichimura</td>\n",
              "      <td>[0, 0]</td>\n",
              "      <td>With the government knowing this could happen ...</td>\n",
              "      <td>5</td>\n",
              "      <td>Excellent story</td>\n",
              "      <td>1397001600</td>\n",
              "      <td>04 9, 2014</td>\n",
              "    </tr>\n",
              "  </tbody>\n",
              "</table>\n",
              "</div>\n",
              "      <button class=\"colab-df-convert\" onclick=\"convertToInteractive('df-521b8ed7-b9a4-40b1-b680-362b90aa699c')\"\n",
              "              title=\"Convert this dataframe to an interactive table.\"\n",
              "              style=\"display:none;\">\n",
              "        \n",
              "  <svg xmlns=\"http://www.w3.org/2000/svg\" height=\"24px\"viewBox=\"0 0 24 24\"\n",
              "       width=\"24px\">\n",
              "    <path d=\"M0 0h24v24H0V0z\" fill=\"none\"/>\n",
              "    <path d=\"M18.56 5.44l.94 2.06.94-2.06 2.06-.94-2.06-.94-.94-2.06-.94 2.06-2.06.94zm-11 1L8.5 8.5l.94-2.06 2.06-.94-2.06-.94L8.5 2.5l-.94 2.06-2.06.94zm10 10l.94 2.06.94-2.06 2.06-.94-2.06-.94-.94-2.06-.94 2.06-2.06.94z\"/><path d=\"M17.41 7.96l-1.37-1.37c-.4-.4-.92-.59-1.43-.59-.52 0-1.04.2-1.43.59L10.3 9.45l-7.72 7.72c-.78.78-.78 2.05 0 2.83L4 21.41c.39.39.9.59 1.41.59.51 0 1.02-.2 1.41-.59l7.78-7.78 2.81-2.81c.8-.78.8-2.07 0-2.86zM5.41 20L4 18.59l7.72-7.72 1.47 1.35L5.41 20z\"/>\n",
              "  </svg>\n",
              "      </button>\n",
              "      \n",
              "  <style>\n",
              "    .colab-df-container {\n",
              "      display:flex;\n",
              "      flex-wrap:wrap;\n",
              "      gap: 12px;\n",
              "    }\n",
              "\n",
              "    .colab-df-convert {\n",
              "      background-color: #E8F0FE;\n",
              "      border: none;\n",
              "      border-radius: 50%;\n",
              "      cursor: pointer;\n",
              "      display: none;\n",
              "      fill: #1967D2;\n",
              "      height: 32px;\n",
              "      padding: 0 0 0 0;\n",
              "      width: 32px;\n",
              "    }\n",
              "\n",
              "    .colab-df-convert:hover {\n",
              "      background-color: #E2EBFA;\n",
              "      box-shadow: 0px 1px 2px rgba(60, 64, 67, 0.3), 0px 1px 3px 1px rgba(60, 64, 67, 0.15);\n",
              "      fill: #174EA6;\n",
              "    }\n",
              "\n",
              "    [theme=dark] .colab-df-convert {\n",
              "      background-color: #3B4455;\n",
              "      fill: #D2E3FC;\n",
              "    }\n",
              "\n",
              "    [theme=dark] .colab-df-convert:hover {\n",
              "      background-color: #434B5C;\n",
              "      box-shadow: 0px 1px 3px 1px rgba(0, 0, 0, 0.15);\n",
              "      filter: drop-shadow(0px 1px 2px rgba(0, 0, 0, 0.3));\n",
              "      fill: #FFFFFF;\n",
              "    }\n",
              "  </style>\n",
              "\n",
              "      <script>\n",
              "        const buttonEl =\n",
              "          document.querySelector('#df-521b8ed7-b9a4-40b1-b680-362b90aa699c button.colab-df-convert');\n",
              "        buttonEl.style.display =\n",
              "          google.colab.kernel.accessAllowed ? 'block' : 'none';\n",
              "\n",
              "        async function convertToInteractive(key) {\n",
              "          const element = document.querySelector('#df-521b8ed7-b9a4-40b1-b680-362b90aa699c');\n",
              "          const dataTable =\n",
              "            await google.colab.kernel.invokeFunction('convertToInteractive',\n",
              "                                                     [key], {});\n",
              "          if (!dataTable) return;\n",
              "\n",
              "          const docLinkHtml = 'Like what you see? Visit the ' +\n",
              "            '<a target=\"_blank\" href=https://colab.research.google.com/notebooks/data_table.ipynb>data table notebook</a>'\n",
              "            + ' to learn more about interactive tables.';\n",
              "          element.innerHTML = '';\n",
              "          dataTable['output_type'] = 'display_data';\n",
              "          await google.colab.output.renderOutput(dataTable, element);\n",
              "          const docLink = document.createElement('div');\n",
              "          docLink.innerHTML = docLinkHtml;\n",
              "          element.appendChild(docLink);\n",
              "        }\n",
              "      </script>\n",
              "    </div>\n",
              "  </div>\n",
              "  "
            ]
          },
          "metadata": {},
          "execution_count": 38
        }
      ]
    },
    {
      "cell_type": "markdown",
      "source": [
        "We only need the reviewtext and the score for classifying the review. Storing both of them in a list."
      ],
      "metadata": {
        "id": "3iFexicw4KyT"
      }
    },
    {
      "cell_type": "code",
      "source": [
        "x=list(data.iloc[:,4:6].values)\n",
        "print(x[4][1])"
      ],
      "metadata": {
        "colab": {
          "base_uri": "https://localhost:8080/"
        },
        "id": "0ionOOqT0UgN",
        "outputId": "520f5e11-897e-4bca-d96b-4e4a7549bf9b"
      },
      "execution_count": 39,
      "outputs": [
        {
          "output_type": "stream",
          "name": "stdout",
          "text": [
            "5\n"
          ]
        }
      ]
    },
    {
      "cell_type": "code",
      "source": [
        "class Review:\n",
        "  def __init__(self, text, score):\n",
        "    self.text=text\n",
        "    self.score=score\n",
        "    self.sentiment = self.get_Sentiment()\n",
        "\n",
        "  def get_Sentiment(self):\n",
        "    if self.score<=2:\n",
        "      return \"NEGATIVE\"\n",
        "    elif self.score==3:\n",
        "      return \"NEUTRAL\"\n",
        "    else:\n",
        "      return \"POSITIVE\"\n",
        "\n",
        "\n"
      ],
      "metadata": {
        "id": "17rITpg137Q-"
      },
      "execution_count": 40,
      "outputs": []
    },
    {
      "cell_type": "markdown",
      "source": [
        "We can make a class for getting score and everything, to make it easier and cleaner."
      ],
      "metadata": {
        "id": "U_auqm2I47_A"
      }
    },
    {
      "cell_type": "code",
      "source": [
        "fname=\"/content/Books_small.json\"\n",
        "reviews=[]\n",
        "with open(fname) as f:\n",
        "  for line in f:\n",
        "    #print(line)\n",
        "    #break (to check if it works or not)\n",
        "    review=json.loads(line)\n",
        "    #print(review[\"reviewText\"]) (to check if it works or not))\n",
        "    #print(review[\"overall\"])    (to check if it works or not))\n",
        "    #break\n",
        "    reviews.append(Review(review[\"reviewText\"],review[\"overall\"]))\n",
        "\n",
        "print(reviews[5].text)"
      ],
      "metadata": {
        "colab": {
          "base_uri": "https://localhost:8080/"
        },
        "id": "AEwKTaZD462y",
        "outputId": "d35b80bd-a02b-4768-dbfd-fe76713a9990"
      },
      "execution_count": 41,
      "outputs": [
        {
          "output_type": "stream",
          "name": "stdout",
          "text": [
            "Love the book, great story line, keeps you entertained.for a first novel from this author she did a great job,  Would definitely recommend!\n"
          ]
        }
      ]
    },
    {
      "cell_type": "markdown",
      "source": [
        "Prepping Data:"
      ],
      "metadata": {
        "id": "OQbdLP1vHjFg"
      }
    },
    {
      "cell_type": "code",
      "source": [
        "len(reviews)"
      ],
      "metadata": {
        "id": "pY5U3PPcHlex",
        "outputId": "2de27382-9bd1-477e-b041-50c1cb50ff29",
        "colab": {
          "base_uri": "https://localhost:8080/"
        }
      },
      "execution_count": 42,
      "outputs": [
        {
          "output_type": "execute_result",
          "data": {
            "text/plain": [
              "1000"
            ]
          },
          "metadata": {},
          "execution_count": 42
        }
      ]
    },
    {
      "cell_type": "code",
      "source": [
        "from sklearn.model_selection import train_test_split\n",
        "x_train,x_test=train_test_split(reviews,test_size=0.33,random_state=0)"
      ],
      "metadata": {
        "id": "_N9DbLXuHo97"
      },
      "execution_count": 43,
      "outputs": []
    },
    {
      "cell_type": "code",
      "source": [
        "len(x_train)"
      ],
      "metadata": {
        "id": "Ntzzsme1IXUo",
        "outputId": "beaefbb3-5949-42f6-c3a6-79f21b61cf9c",
        "colab": {
          "base_uri": "https://localhost:8080/"
        }
      },
      "execution_count": 44,
      "outputs": [
        {
          "output_type": "execute_result",
          "data": {
            "text/plain": [
              "670"
            ]
          },
          "metadata": {},
          "execution_count": 44
        }
      ]
    },
    {
      "cell_type": "code",
      "source": [
        "print(x_train[0].score)"
      ],
      "metadata": {
        "id": "aiOihPAzIeiM",
        "outputId": "5030c1f5-571c-49a4-87ab-39863a4eef23",
        "colab": {
          "base_uri": "https://localhost:8080/"
        }
      },
      "execution_count": 45,
      "outputs": [
        {
          "output_type": "stream",
          "name": "stdout",
          "text": [
            "5.0\n"
          ]
        }
      ]
    },
    {
      "cell_type": "code",
      "source": [
        "print(x_train[1].sentiment)"
      ],
      "metadata": {
        "id": "1E38T9KtImgd",
        "outputId": "47e3400a-b66a-4851-a91d-c0a1e215f73c",
        "colab": {
          "base_uri": "https://localhost:8080/"
        }
      },
      "execution_count": 46,
      "outputs": [
        {
          "output_type": "stream",
          "name": "stdout",
          "text": [
            "POSITIVE\n"
          ]
        }
      ]
    },
    {
      "cell_type": "code",
      "source": [
        "train_t=[x.text for x in x_train]\n",
        "train_s=[x.sentiment for x in x_train]\n",
        "test_t=[x.text for x in x_test]\n",
        "test_s=[x.sentiment for x in x_test]\n",
        "train_t[0]\n",
        "train_s[0]"
      ],
      "metadata": {
        "id": "zzgTkkHlIsPn",
        "outputId": "09d13c5e-874e-469c-aadb-92a605e2553d",
        "colab": {
          "base_uri": "https://localhost:8080/",
          "height": 35
        }
      },
      "execution_count": 50,
      "outputs": [
        {
          "output_type": "execute_result",
          "data": {
            "text/plain": [
              "'POSITIVE'"
            ],
            "application/vnd.google.colaboratory.intrinsic+json": {
              "type": "string"
            }
          },
          "metadata": {},
          "execution_count": 50
        }
      ]
    },
    {
      "cell_type": "code",
      "source": [
        "test_s[1]"
      ],
      "metadata": {
        "id": "jZMhvy44JwDo",
        "outputId": "27fc397d-78b2-44fa-f618-05b6fafdea57",
        "colab": {
          "base_uri": "https://localhost:8080/",
          "height": 35
        }
      },
      "execution_count": 51,
      "outputs": [
        {
          "output_type": "execute_result",
          "data": {
            "text/plain": [
              "'POSITIVE'"
            ],
            "application/vnd.google.colaboratory.intrinsic+json": {
              "type": "string"
            }
          },
          "metadata": {},
          "execution_count": 51
        }
      ]
    },
    {
      "cell_type": "code",
      "source": [
        "from sklearn.feature_extraction.text import CountVectorizer\n",
        "vectorizer = CountVectorizer()\n",
        "train_t_vectors=vectorizer.fit_transform(train_t)\n",
        "train_s_vectors=vectorizer.transform(train_s)\n",
        "test_t_vectors=vectorizer.transform(test_t)\n",
        "test_s_vectors=vectorizer.transform(test_s)"
      ],
      "metadata": {
        "id": "H8AJFjRDKQio"
      },
      "execution_count": 68,
      "outputs": []
    },
    {
      "cell_type": "code",
      "source": [
        "print(train_t_vectors[0].toarray())"
      ],
      "metadata": {
        "id": "rq_-VRNKMMct",
        "outputId": "b86f6aff-367b-4190-c9f2-65607d3bea2c",
        "colab": {
          "base_uri": "https://localhost:8080/"
        }
      },
      "execution_count": 57,
      "outputs": [
        {
          "output_type": "stream",
          "name": "stdout",
          "text": [
            "[[0 0 0 ... 0 0 0]]\n"
          ]
        }
      ]
    },
    {
      "cell_type": "code",
      "source": [
        "#SVM\n",
        "from sklearn import svm\n",
        "c_svc=svm.SVC(kernel=\"linear\")\n",
        "c_svc.fit(train_t_vectors,train_s)"
      ],
      "metadata": {
        "id": "g8iBzZrUMs-5",
        "outputId": "590f23c1-54ad-4017-d927-f79245bec292",
        "colab": {
          "base_uri": "https://localhost:8080/"
        }
      },
      "execution_count": 63,
      "outputs": [
        {
          "output_type": "execute_result",
          "data": {
            "text/plain": [
              "SVC(kernel='linear')"
            ]
          },
          "metadata": {},
          "execution_count": 63
        }
      ]
    },
    {
      "cell_type": "code",
      "source": [
        "test_s[0]"
      ],
      "metadata": {
        "id": "0hX86mhxPNaS",
        "outputId": "05dcbf20-68c9-4fb1-ba66-fe98440bd273",
        "colab": {
          "base_uri": "https://localhost:8080/",
          "height": 35
        }
      },
      "execution_count": 64,
      "outputs": [
        {
          "output_type": "execute_result",
          "data": {
            "text/plain": [
              "'POSITIVE'"
            ],
            "application/vnd.google.colaboratory.intrinsic+json": {
              "type": "string"
            }
          },
          "metadata": {},
          "execution_count": 64
        }
      ]
    },
    {
      "cell_type": "code",
      "source": [
        "print(test_s_vectors[0])"
      ],
      "metadata": {
        "id": "Mfa_oaR2P5hJ",
        "outputId": "5ed2c1d0-afe0-4986-ef2b-95dd1f98cde3",
        "colab": {
          "base_uri": "https://localhost:8080/"
        }
      },
      "execution_count": 71,
      "outputs": [
        {
          "output_type": "stream",
          "name": "stdout",
          "text": [
            "  (0, 5113)\t1\n"
          ]
        }
      ]
    },
    {
      "cell_type": "code",
      "source": [
        "c_svc.predict(test_t_vectors[0])"
      ],
      "metadata": {
        "id": "TypYOmoAP-7G",
        "outputId": "e75929d4-103a-4407-9c9b-56689dbac1d6",
        "colab": {
          "base_uri": "https://localhost:8080/"
        }
      },
      "execution_count": 73,
      "outputs": [
        {
          "output_type": "execute_result",
          "data": {
            "text/plain": [
              "array(['NEUTRAL'], dtype='<U8')"
            ]
          },
          "metadata": {},
          "execution_count": 73
        }
      ]
    },
    {
      "cell_type": "code",
      "source": [
        "from sklearn.tree import DecisionTreeClassifier\n",
        "c_t=DecisionTreeClassifier()\n",
        "c_t.fit(train_t_vectors,train_s)"
      ],
      "metadata": {
        "id": "456_mSvaRZ1X",
        "outputId": "1ef1bea0-abbd-498c-a81b-1188776d9cb6",
        "colab": {
          "base_uri": "https://localhost:8080/"
        }
      },
      "execution_count": 75,
      "outputs": [
        {
          "output_type": "execute_result",
          "data": {
            "text/plain": [
              "DecisionTreeClassifier()"
            ]
          },
          "metadata": {},
          "execution_count": 75
        }
      ]
    },
    {
      "cell_type": "code",
      "source": [
        "c_t.predict(test_t_vectors[0])"
      ],
      "metadata": {
        "id": "DwrlzcV7R5Uo",
        "outputId": "a5ec81cd-55dd-45d1-edc1-3c518a17761d",
        "colab": {
          "base_uri": "https://localhost:8080/"
        }
      },
      "execution_count": 76,
      "outputs": [
        {
          "output_type": "execute_result",
          "data": {
            "text/plain": [
              "array(['POSITIVE'], dtype='<U8')"
            ]
          },
          "metadata": {},
          "execution_count": 76
        }
      ]
    },
    {
      "cell_type": "code",
      "source": [
        "from sklearn.linear_model import LogisticRegression\n",
        "LR=LogisticRegression()\n",
        "LR.fit(train_t_vectors,train_s)"
      ],
      "metadata": {
        "id": "qgGtkJk0SAhK",
        "outputId": "52766ada-2e10-405c-8cc7-76a6bf69861c",
        "colab": {
          "base_uri": "https://localhost:8080/"
        }
      },
      "execution_count": 77,
      "outputs": [
        {
          "output_type": "stream",
          "name": "stderr",
          "text": [
            "/usr/local/lib/python3.7/dist-packages/sklearn/linear_model/_logistic.py:818: ConvergenceWarning: lbfgs failed to converge (status=1):\n",
            "STOP: TOTAL NO. of ITERATIONS REACHED LIMIT.\n",
            "\n",
            "Increase the number of iterations (max_iter) or scale the data as shown in:\n",
            "    https://scikit-learn.org/stable/modules/preprocessing.html\n",
            "Please also refer to the documentation for alternative solver options:\n",
            "    https://scikit-learn.org/stable/modules/linear_model.html#logistic-regression\n",
            "  extra_warning_msg=_LOGISTIC_SOLVER_CONVERGENCE_MSG,\n"
          ]
        },
        {
          "output_type": "execute_result",
          "data": {
            "text/plain": [
              "LogisticRegression()"
            ]
          },
          "metadata": {},
          "execution_count": 77
        }
      ]
    },
    {
      "cell_type": "code",
      "source": [
        "LR.predict(test_t_vectors[0])"
      ],
      "metadata": {
        "id": "g-XmMuJLSW13",
        "outputId": "bbb5ddaa-e984-4531-b7e5-c0a8725478a8",
        "colab": {
          "base_uri": "https://localhost:8080/"
        }
      },
      "execution_count": 78,
      "outputs": [
        {
          "output_type": "execute_result",
          "data": {
            "text/plain": [
              "array(['NEUTRAL'], dtype='<U8')"
            ]
          },
          "metadata": {},
          "execution_count": 78
        }
      ]
    },
    {
      "cell_type": "code",
      "source": [
        "LR.score(test_t_vectors,test_s)"
      ],
      "metadata": {
        "id": "QWC_ESv-SbRR",
        "outputId": "7918db2f-6978-49ca-de5a-4e7a8545cd00",
        "colab": {
          "base_uri": "https://localhost:8080/"
        }
      },
      "execution_count": 80,
      "outputs": [
        {
          "output_type": "execute_result",
          "data": {
            "text/plain": [
              "0.8212121212121212"
            ]
          },
          "metadata": {},
          "execution_count": 80
        }
      ]
    },
    {
      "cell_type": "code",
      "source": [
        "c_t.score(test_t_vectors,test_s)"
      ],
      "metadata": {
        "id": "50qgS2B5S91r",
        "outputId": "d4134ae4-b034-457c-87e1-9954a6d5b30f",
        "colab": {
          "base_uri": "https://localhost:8080/"
        }
      },
      "execution_count": 81,
      "outputs": [
        {
          "output_type": "execute_result",
          "data": {
            "text/plain": [
              "0.7606060606060606"
            ]
          },
          "metadata": {},
          "execution_count": 81
        }
      ]
    },
    {
      "cell_type": "code",
      "source": [
        "c_svc.score(test_t_vectors,test_s)"
      ],
      "metadata": {
        "id": "npn3bUUgTLhN",
        "outputId": "f10cab06-2d70-4175-c10c-148081696660",
        "colab": {
          "base_uri": "https://localhost:8080/"
        }
      },
      "execution_count": 82,
      "outputs": [
        {
          "output_type": "execute_result",
          "data": {
            "text/plain": [
              "0.803030303030303"
            ]
          },
          "metadata": {},
          "execution_count": 82
        }
      ]
    },
    {
      "cell_type": "code",
      "source": [
        "from sklearn.metrics import confusion_matrix\n",
        "cf=confusion_matrix(test_s,LR.predict(test_t_vectors))\n",
        "print(cf)"
      ],
      "metadata": {
        "id": "c0m9ZbpbTPLb",
        "outputId": "5fefbfe3-06d8-4f85-a75f-07523ad0b829",
        "colab": {
          "base_uri": "https://localhost:8080/"
        }
      },
      "execution_count": 84,
      "outputs": [
        {
          "output_type": "stream",
          "name": "stdout",
          "text": [
            "[[  1   2  18]\n",
            " [  0   5  31]\n",
            " [  2   6 265]]\n"
          ]
        }
      ]
    },
    {
      "cell_type": "code",
      "source": [
        ""
      ],
      "metadata": {
        "id": "AbTJbYhjTqxY"
      },
      "execution_count": null,
      "outputs": []
    }
  ]
}